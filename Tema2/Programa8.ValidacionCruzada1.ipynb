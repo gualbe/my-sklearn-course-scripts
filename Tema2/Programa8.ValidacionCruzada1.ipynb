{
 "cells": [
  {
   "cell_type": "code",
   "execution_count": 1,
   "metadata": {},
   "outputs": [],
   "source": [
    "from sklearn.model_selection import KFold"
   ]
  },
  {
   "cell_type": "code",
   "execution_count": 2,
   "metadata": {},
   "outputs": [],
   "source": [
    "# Carga de datos.\n",
    "X = [\"a\", \"b\", \"c\", \"d\", \"e\", \"f\", \"g\", \"h\", \"i\", \"j\"]"
   ]
  },
  {
   "cell_type": "code",
   "execution_count": 3,
   "metadata": {},
   "outputs": [],
   "source": [
    "# Validación cruzada.\n",
    "kf = KFold(n_splits = 3)\n",
    "bolsas = kf.split(X)"
   ]
  },
  {
   "cell_type": "code",
   "execution_count": 4,
   "metadata": {},
   "outputs": [
    {
     "name": "stdout",
     "output_type": "stream",
     "text": [
      "Iteracion 1 :\n",
      " - Entrenamiento: [4 5 6 7 8 9]\n",
      " - Test: [0 1 2 3]\n",
      "Iteracion 2 :\n",
      " - Entrenamiento: [0 1 2 3 7 8 9]\n",
      " - Test: [4 5 6]\n",
      "Iteracion 3 :\n",
      " - Entrenamiento: [0 1 2 3 4 5 6]\n",
      " - Test: [7 8 9]\n"
     ]
    }
   ],
   "source": [
    "# Mostrar ejemplos de cada iteración.\n",
    "k = 1\n",
    "for train, test in bolsas:\n",
    "    print(\"Iteracion\", k, \":\")\n",
    "    print(\" - Entrenamiento: %s\" % (train)) \n",
    "    print(\" - Test: %s\" % (test))\n",
    "    k = k + 1"
   ]
  },
  {
   "cell_type": "code",
   "execution_count": null,
   "metadata": {},
   "outputs": [],
   "source": []
  }
 ],
 "metadata": {
  "kernelspec": {
   "display_name": "Python 3",
   "language": "python",
   "name": "python3"
  },
  "language_info": {
   "codemirror_mode": {
    "name": "ipython",
    "version": 3
   },
   "file_extension": ".py",
   "mimetype": "text/x-python",
   "name": "python",
   "nbconvert_exporter": "python",
   "pygments_lexer": "ipython3",
   "version": "3.7.7"
  }
 },
 "nbformat": 4,
 "nbformat_minor": 4
}
