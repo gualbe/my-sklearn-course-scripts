{
 "cells": [
  {
   "cell_type": "code",
   "execution_count": 8,
   "metadata": {},
   "outputs": [],
   "source": [
    "from sklearn import datasets\n",
    "from sklearn.dummy import DummyClassifier\n",
    "from sklearn.model_selection import cross_val_predict\n",
    "from sklearn.model_selection import KFold\n",
    "import sklearn.metrics as metrics"
   ]
  },
  {
   "cell_type": "code",
   "execution_count": 9,
   "metadata": {},
   "outputs": [],
   "source": [
    "# Carga de datos.\n",
    "datos = datasets.load_iris()"
   ]
  },
  {
   "cell_type": "code",
   "execution_count": 10,
   "metadata": {},
   "outputs": [],
   "source": [
    "# Algoritmo de aprendizaje.\n",
    "clf = DummyClassifier()"
   ]
  },
  {
   "cell_type": "code",
   "execution_count": 11,
   "metadata": {},
   "outputs": [],
   "source": [
    "# Validación y obtención de las predicciones del modelo.\n",
    "y_pred = cross_val_predict(clf, datos.data, datos.target, cv = KFold(n_splits=10))"
   ]
  },
  {
   "cell_type": "code",
   "execution_count": 5,
   "metadata": {},
   "outputs": [
    {
     "data": {
      "text/plain": [
       "array([0, 0, 0, 0, 0, 0, 0, 0, 0, 0, 0, 0, 0, 0, 0, 0, 0, 0, 0, 0, 0, 0,\n",
       "       0, 0, 0, 0, 0, 0, 0, 0, 0, 0, 0, 0, 0, 0, 0, 0, 0, 0, 0, 0, 0, 0,\n",
       "       0, 0, 0, 0, 0, 0, 1, 1, 1, 1, 1, 1, 1, 1, 1, 1, 1, 1, 1, 1, 1, 1,\n",
       "       1, 1, 1, 1, 1, 1, 1, 1, 1, 1, 1, 1, 1, 1, 1, 1, 1, 1, 1, 1, 1, 1,\n",
       "       1, 1, 1, 1, 1, 1, 1, 1, 1, 1, 1, 1, 2, 2, 2, 2, 2, 2, 2, 2, 2, 2,\n",
       "       2, 2, 2, 2, 2, 2, 2, 2, 2, 2, 2, 2, 2, 2, 2, 2, 2, 2, 2, 2, 2, 2,\n",
       "       2, 2, 2, 2, 2, 2, 2, 2, 2, 2, 2, 2, 2, 2, 2, 2, 2, 2])"
      ]
     },
     "execution_count": 5,
     "metadata": {},
     "output_type": "execute_result"
    }
   ],
   "source": [
    "datos.target"
   ]
  },
  {
   "cell_type": "code",
   "execution_count": 12,
   "metadata": {},
   "outputs": [
    {
     "data": {
      "text/plain": [
       "array([2, 1, 1, 2, 2, 1, 2, 0, 0, 0, 2, 0, 2, 1, 2, 1, 1, 1, 1, 0, 0, 1,\n",
       "       1, 2, 2, 2, 0, 1, 2, 2, 2, 1, 2, 0, 2, 1, 1, 2, 1, 1, 2, 1, 1, 2,\n",
       "       0, 0, 0, 1, 2, 2, 1, 0, 2, 0, 2, 0, 2, 2, 0, 0, 2, 2, 0, 1, 0, 1,\n",
       "       1, 0, 1, 0, 2, 2, 2, 0, 2, 1, 0, 1, 0, 1, 1, 2, 1, 1, 1, 0, 0, 1,\n",
       "       2, 0, 0, 1, 0, 2, 1, 2, 0, 2, 2, 1, 1, 2, 0, 1, 1, 1, 2, 1, 0, 0,\n",
       "       2, 0, 1, 1, 1, 2, 1, 2, 0, 2, 1, 1, 0, 1, 2, 1, 1, 1, 0, 1, 0, 1,\n",
       "       0, 2, 0, 1, 2, 2, 2, 0, 2, 1, 0, 2, 0, 0, 2, 0, 1, 0])"
      ]
     },
     "execution_count": 12,
     "metadata": {},
     "output_type": "execute_result"
    }
   ],
   "source": [
    "y_pred"
   ]
  },
  {
   "cell_type": "code",
   "execution_count": 13,
   "metadata": {},
   "outputs": [
    {
     "name": "stdout",
     "output_type": "stream",
     "text": [
      "Exactitud: 0.273\n",
      "\n",
      "Precisión: 0.273\n",
      "\n",
      "Sensibilidad: 0.273\n",
      "\n",
      "F1: 0.273\n",
      "\n",
      "Matriz de confusión:\n",
      " [[11 19 20]\n",
      " [18 16 16]\n",
      " [16 20 14]]\n",
      "Tabla de métricas:\n",
      "               precision    recall  f1-score   support\n",
      "\n",
      "           0       0.24      0.22      0.23        50\n",
      "           1       0.29      0.32      0.30        50\n",
      "           2       0.28      0.28      0.28        50\n",
      "\n",
      "    accuracy                           0.27       150\n",
      "   macro avg       0.27      0.27      0.27       150\n",
      "weighted avg       0.27      0.27      0.27       150\n",
      "\n"
     ]
    }
   ],
   "source": [
    "# Presentación de los resultados de la evaluación.\n",
    "print(\"Exactitud: %.3f\\n\" % (metrics.accuracy_score(datos.target, y_pred)))\n",
    "print(\"Precisión: %.3f\\n\" % (metrics.precision_score(datos.target, y_pred, average=\"micro\")))\n",
    "print(\"Sensibilidad: %.3f\\n\" % (metrics.recall_score(datos.target, y_pred, average=\"micro\")))\n",
    "print(\"F1: %.3f\\n\" % (metrics.f1_score(datos.target, y_pred, average=\"micro\")))\n",
    "print(\"Matriz de confusión:\\n\", metrics.confusion_matrix(datos.target, y_pred))\n",
    "print(\"Tabla de métricas:\\n\", metrics.classification_report(datos.target, y_pred))"
   ]
  },
  {
   "cell_type": "code",
   "execution_count": null,
   "metadata": {},
   "outputs": [],
   "source": []
  }
 ],
 "metadata": {
  "kernelspec": {
   "display_name": "Python 3",
   "language": "python",
   "name": "python3"
  },
  "language_info": {
   "codemirror_mode": {
    "name": "ipython",
    "version": 3
   },
   "file_extension": ".py",
   "mimetype": "text/x-python",
   "name": "python",
   "nbconvert_exporter": "python",
   "pygments_lexer": "ipython3",
   "version": "3.7.7"
  }
 },
 "nbformat": 4,
 "nbformat_minor": 4
}
