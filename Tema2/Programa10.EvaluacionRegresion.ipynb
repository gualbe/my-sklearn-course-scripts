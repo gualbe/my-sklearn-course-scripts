{
 "cells": [
  {
   "cell_type": "code",
   "execution_count": 10,
   "metadata": {},
   "outputs": [],
   "source": [
    "import numpy as np\n",
    "from math import sqrt\n",
    "from pprint import pprint\n",
    "from sklearn import datasets\n",
    "from sklearn.dummy import DummyRegressor\n",
    "from sklearn.model_selection import cross_validate\n",
    "from sklearn.model_selection import KFold\n",
    "from sklearn.metrics import make_scorer\n",
    "from sklearn.metrics import mean_squared_error"
   ]
  },
  {
   "cell_type": "code",
   "execution_count": 11,
   "metadata": {},
   "outputs": [],
   "source": [
    "# Carga de datos.\n",
    "datos = datasets.load_boston()"
   ]
  },
  {
   "cell_type": "code",
   "execution_count": 13,
   "metadata": {},
   "outputs": [
    {
     "data": {
      "text/html": [
       "<div>\n",
       "<style scoped>\n",
       "    .dataframe tbody tr th:only-of-type {\n",
       "        vertical-align: middle;\n",
       "    }\n",
       "\n",
       "    .dataframe tbody tr th {\n",
       "        vertical-align: top;\n",
       "    }\n",
       "\n",
       "    .dataframe thead th {\n",
       "        text-align: right;\n",
       "    }\n",
       "</style>\n",
       "<table border=\"1\" class=\"dataframe\">\n",
       "  <thead>\n",
       "    <tr style=\"text-align: right;\">\n",
       "      <th></th>\n",
       "      <th>0</th>\n",
       "    </tr>\n",
       "  </thead>\n",
       "  <tbody>\n",
       "    <tr>\n",
       "      <th>count</th>\n",
       "      <td>506.000000</td>\n",
       "    </tr>\n",
       "    <tr>\n",
       "      <th>mean</th>\n",
       "      <td>22.532806</td>\n",
       "    </tr>\n",
       "    <tr>\n",
       "      <th>std</th>\n",
       "      <td>9.197104</td>\n",
       "    </tr>\n",
       "    <tr>\n",
       "      <th>min</th>\n",
       "      <td>5.000000</td>\n",
       "    </tr>\n",
       "    <tr>\n",
       "      <th>25%</th>\n",
       "      <td>17.025000</td>\n",
       "    </tr>\n",
       "    <tr>\n",
       "      <th>50%</th>\n",
       "      <td>21.200000</td>\n",
       "    </tr>\n",
       "    <tr>\n",
       "      <th>75%</th>\n",
       "      <td>25.000000</td>\n",
       "    </tr>\n",
       "    <tr>\n",
       "      <th>max</th>\n",
       "      <td>50.000000</td>\n",
       "    </tr>\n",
       "  </tbody>\n",
       "</table>\n",
       "</div>"
      ],
      "text/plain": [
       "                0\n",
       "count  506.000000\n",
       "mean    22.532806\n",
       "std      9.197104\n",
       "min      5.000000\n",
       "25%     17.025000\n",
       "50%     21.200000\n",
       "75%     25.000000\n",
       "max     50.000000"
      ]
     },
     "execution_count": 13,
     "metadata": {},
     "output_type": "execute_result"
    }
   ],
   "source": [
    "import pandas as pd\n",
    "df = pd.DataFrame(datos.target)\n",
    "df.describe()"
   ]
  },
  {
   "cell_type": "code",
   "execution_count": 14,
   "metadata": {},
   "outputs": [],
   "source": [
    "# Algoritmo de aprendizaje.\n",
    "reg = DummyRegressor()"
   ]
  },
  {
   "cell_type": "code",
   "execution_count": 15,
   "metadata": {},
   "outputs": [],
   "source": [
    "# Métricas de evaluación.\n",
    "metricas = {\n",
    "  'MAE': 'neg_mean_absolute_error',\n",
    "  'RMSE': make_scorer(\n",
    "          lambda y, y_pred:\n",
    "            sqrt(mean_squared_error(y, y_pred)),\n",
    "            greater_is_better=False),\n",
    "  'MAPE': make_scorer(\n",
    "          lambda y, y_pred:\n",
    "            np.mean(np.abs((y - y_pred) / y)) * 100,\n",
    "            greater_is_better=False)}"
   ]
  },
  {
   "cell_type": "code",
   "execution_count": 16,
   "metadata": {},
   "outputs": [],
   "source": [
    "# Validación y evaluación del modelo.\n",
    "evaluacion = cross_validate(reg, datos.data, datos.target,\n",
    "                cv = KFold(n_splits=10), scoring = metricas, return_train_score=True)"
   ]
  },
  {
   "cell_type": "code",
   "execution_count": 17,
   "metadata": {},
   "outputs": [
    {
     "name": "stdout",
     "output_type": "stream",
     "text": [
      "{'fit_time': array([0.00034189, 0.00021076, 0.00012898, 0.00012612, 0.00012589,\n",
      "       0.00013494, 0.00012207, 0.00013185, 0.00011706, 0.0001111 ]),\n",
      " 'score_time': array([0.00043082, 0.00034904, 0.00031495, 0.0003159 , 0.00031304,\n",
      "       0.00028014, 0.00033903, 0.00031996, 0.0002768 , 0.00027275]),\n",
      " 'test_MAE': array([ -5.3515794 ,  -3.53014437,  -4.94711485, -10.76168067,\n",
      "        -6.44039647, -10.047688  ,  -3.17389474, -11.29252632,\n",
      "       -10.23408772,  -4.63788596]),\n",
      " 'test_MAPE': array([-29.25050459, -12.906196  , -30.39854529, -30.34584199,\n",
      "       -18.56158501, -27.26756887, -14.90917649, -98.89347189,\n",
      "       -90.94044655, -33.26160748]),\n",
      " 'test_RMSE': array([ -6.32943878,  -5.54863948,  -5.6114705 , -13.84505712,\n",
      "       -10.19621426, -13.13853419,  -4.07150292, -13.4561593 ,\n",
      "       -10.80909628,  -5.99400813]),\n",
      " 'train_MAE': array([-6.84090907, -6.96073421, -6.95353218, -6.06529743, -6.57961309,\n",
      "       -6.14446758, -7.04271699, -6.26994748, -6.52471914, -6.95908934]),\n",
      " 'train_MAPE': array([-37.73660656, -38.42504524, -38.38854737, -34.70904826,\n",
      "       -36.86123697, -35.01551766, -38.86500709, -31.04130253,\n",
      "       -33.27468102, -37.78938541]),\n",
      " 'train_RMSE': array([-9.45780331, -9.51186021, -9.5199248 , -8.57050267, -9.08884807,\n",
      "       -8.69673863, -9.58460612, -8.61210855, -9.05134055, -9.48269466])}\n"
     ]
    }
   ],
   "source": [
    "# Presentación de los resultados de la evaluación.\n",
    "pprint(evaluacion)"
   ]
  },
  {
   "cell_type": "markdown",
   "metadata": {},
   "source": [
    "Nota.- Los valores de MAE, MAPE y RMSE  están siempre en negativo porque las métricas están definidas con signo negativo para que un mayor valor implique un mejor valor."
   ]
  },
  {
   "cell_type": "code",
   "execution_count": 18,
   "metadata": {},
   "outputs": [
    {
     "data": {
      "text/plain": [
       "7.04169984860341"
      ]
     },
     "execution_count": 18,
     "metadata": {},
     "output_type": "execute_result"
    }
   ],
   "source": [
    "abs(evaluacion['test_MAE']).mean()"
   ]
  },
  {
   "cell_type": "code",
   "execution_count": 19,
   "metadata": {},
   "outputs": [
    {
     "data": {
      "text/plain": [
       "6.634102650955015"
      ]
     },
     "execution_count": 19,
     "metadata": {},
     "output_type": "execute_result"
    }
   ],
   "source": [
    "abs(evaluacion['train_MAE']).mean()"
   ]
  },
  {
   "cell_type": "code",
   "execution_count": null,
   "metadata": {},
   "outputs": [],
   "source": []
  }
 ],
 "metadata": {
  "kernelspec": {
   "display_name": "Python 3",
   "language": "python",
   "name": "python3"
  },
  "language_info": {
   "codemirror_mode": {
    "name": "ipython",
    "version": 3
   },
   "file_extension": ".py",
   "mimetype": "text/x-python",
   "name": "python",
   "nbconvert_exporter": "python",
   "pygments_lexer": "ipython3",
   "version": "3.7.7"
  }
 },
 "nbformat": 4,
 "nbformat_minor": 4
}
