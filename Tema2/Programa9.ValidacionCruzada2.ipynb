{
 "cells": [
  {
   "cell_type": "code",
   "execution_count": 1,
   "metadata": {},
   "outputs": [],
   "source": [
    "from sklearn import datasets\n",
    "from sklearn.dummy import DummyClassifier\n",
    "from sklearn.model_selection import cross_val_score\n",
    "from sklearn.model_selection import KFold"
   ]
  },
  {
   "cell_type": "code",
   "execution_count": 2,
   "metadata": {},
   "outputs": [],
   "source": [
    "# Carga de datos.\n",
    "iris = datasets.load_iris()"
   ]
  },
  {
   "cell_type": "code",
   "execution_count": 3,
   "metadata": {},
   "outputs": [
    {
     "name": "stdout",
     "output_type": "stream",
     "text": [
      "Tabla de datos: 150 instancias y 4 atributos\n",
      "Valores de la clase: {0, 1, 2}\n"
     ]
    }
   ],
   "source": [
    "# Mostrar características de la tabla de datos.\n",
    "print(\"Tabla de datos: %d instancias y %d atributos\" % (iris.data.shape[0], iris.data.shape[1]))\n",
    "print(\"Valores de la clase:\", set(iris.target))"
   ]
  },
  {
   "cell_type": "code",
   "execution_count": 4,
   "metadata": {},
   "outputs": [],
   "source": [
    "# Construcción del objeto que contiene el algoritmo de aprendizaje.\n",
    "clf = DummyClassifier()"
   ]
  },
  {
   "cell_type": "code",
   "execution_count": 12,
   "metadata": {},
   "outputs": [
    {
     "name": "stdout",
     "output_type": "stream",
     "text": [
      "Exactitud de cada bolsa: [0.4        0.06666667 0.33333333 0.46666667 0.2        0.2\n",
      " 0.33333333 0.4        0.06666667 0.33333333]\n",
      "Exactitud (media +/- desv.): 0.280 (+/- 0.133)\n"
     ]
    }
   ],
   "source": [
    "# Validación, entrenamiento y evaluación del algoritmo de aprendizaje.\n",
    "evaluacion = cross_val_score(clf, iris.data, iris.target, cv = KFold(n_splits=10))\n",
    "print(\"Exactitud de cada bolsa:\", evaluacion)\n",
    "print(\"Exactitud (media +/- desv.): %0.3f (+/- %0.3f)\" % (evaluacion.mean(), evaluacion.std()))"
   ]
  },
  {
   "cell_type": "code",
   "execution_count": 6,
   "metadata": {},
   "outputs": [
    {
     "data": {
      "text/plain": [
       "array([0.2       , 0.33333333, 0.33333333, 0.26666667, 0.46666667,\n",
       "       0.4       , 0.4       , 0.33333333, 0.26666667, 0.2       ])"
      ]
     },
     "execution_count": 6,
     "metadata": {},
     "output_type": "execute_result"
    }
   ],
   "source": [
    "evaluacion"
   ]
  }
 ],
 "metadata": {
  "kernelspec": {
   "display_name": "Python 3",
   "language": "python",
   "name": "python3"
  },
  "language_info": {
   "codemirror_mode": {
    "name": "ipython",
    "version": 3
   },
   "file_extension": ".py",
   "mimetype": "text/x-python",
   "name": "python",
   "nbconvert_exporter": "python",
   "pygments_lexer": "ipython3",
   "version": "3.7.7"
  }
 },
 "nbformat": 4,
 "nbformat_minor": 4
}
